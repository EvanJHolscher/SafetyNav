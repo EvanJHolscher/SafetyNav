{
  "nbformat": 4,
  "nbformat_minor": 0,
  "metadata": {
    "colab": {
      "provenance": []
    },
    "kernelspec": {
      "name": "python3",
      "display_name": "Python 3"
    },
    "language_info": {
      "name": "python"
    }
  },
  "cells": [
    {
      "cell_type": "code",
      "source": [
        "from google.colab import drive\n",
        "drive.mount('/content/drive')"
      ],
      "metadata": {
        "id": "mmZlSJJ_WLQ7",
        "colab": {
          "base_uri": "https://localhost:8080/"
        },
        "outputId": "70ddc40a-5109-4b87-a4a8-89aef439780a"
      },
      "execution_count": null,
      "outputs": [
        {
          "output_type": "stream",
          "name": "stdout",
          "text": [
            "Mounted at /content/drive\n"
          ]
        }
      ]
    },
    {
      "cell_type": "code",
      "execution_count": null,
      "metadata": {
        "colab": {
          "base_uri": "https://localhost:8080/"
        },
        "id": "wdjBAj5YMcfn",
        "outputId": "48fb60fd-72cc-40dd-850e-61c7363f98b4"
      },
      "outputs": [
        {
          "output_type": "stream",
          "name": "stdout",
          "text": [
            "Title: Crash Data\n",
            "URL: https://catalog.data.gov/dataset/crash-data\n",
            "GeoJSON API Link: https://data.townofcary.org/api/v2/catalog/datasets/cpd-crash-incidents/exports/geojson\n",
            "GeoJSON file saved as: Crash Data.geojson\n",
            "--------------------------------------------------\n",
            "Title: 911 Calls for Service 2021\n",
            "URL: https://catalog.data.gov/dataset/911-calls-for-service-2021-f0a4e\n",
            "GeoJSON API Link: https://data.baltimorecity.gov/datasets/baltimore::911-calls-for-service-2021-.geojson?outSR=%7B%22latestWkid%22%3A3857%2C%22wkid%22%3A102100%7D\n",
            "GeoJSON file saved as: 911 Calls for Service 2021.geojson\n",
            "--------------------------------------------------\n",
            "Title: Part 1 Crime Data\n",
            "URL: https://catalog.data.gov/dataset/part-1-crime-data-2b9ba\n",
            "GeoJSON API Link: https://data.baltimorecity.gov/datasets/baltimore::part-1-crime-data-.geojson?outSR=%7B%22latestWkid%22%3A4326%2C%22wkid%22%3A4326%7D\n",
            "Error downloading GeoJSON file.\n",
            "--------------------------------------------------\n",
            "Title: Police Incidents\n",
            "URL: https://catalog.data.gov/dataset/police-incidents\n",
            "GeoJSON API Link: https://data.townofcary.org/api/v2/catalog/datasets/cpd-incidents/exports/geojson\n",
            "GeoJSON file saved as: Police Incidents.geojson\n",
            "--------------------------------------------------\n",
            "Title: Louisville Metro KY - Crime Data 2022\n",
            "URL: https://catalog.data.gov/dataset/louisville-metro-ky-crime-data-2022\n",
            "GeoJSON API Link: https://louisville-metro-opendata-lojic.hub.arcgis.com/datasets/LOJIC::louisville-metro-ky-crime-data-2022.geojson\n"
          ]
        }
      ],
      "source": [
        "import requests\n",
        "from bs4 import BeautifulSoup\n",
        "\n",
        "# GET Page URL\n",
        "page_url = \"https://catalog.data.gov/dataset/?q=crime&sort=views_recent+desc&ext_location=&ext_bbox=&ext_prev_extent=&res_format=GeoJSON\"\n",
        "response = requests.get(page_url)\n",
        "\n",
        "# Check if the request was successful (status code 200)\n",
        "if response.status_code == 200:\n",
        "    # Parse the HTML content of the page\n",
        "    soup = BeautifulSoup(response.text, \"html.parser\")\n",
        "\n",
        "    # Find and extract dataset links\n",
        "    dataset_links = soup.find_all(\"h3\", class_=\"dataset-heading\")\n",
        "\n",
        "    # Loop through dataset links\n",
        "    for dataset_link in dataset_links:\n",
        "        # Extract dataset title and URL\n",
        "        title = dataset_link.find(\"a\").text.strip()\n",
        "        dataset_url = \"https://catalog.data.gov\" + dataset_link.find(\"a\")[\"href\"]\n",
        "\n",
        "        # Print the dataset title and URL\n",
        "        print(f\"Title: {title}\")\n",
        "        print(f\"URL: {dataset_url}\")\n",
        "\n",
        "        dataset_response = requests.get(dataset_url)\n",
        "\n",
        "        if dataset_response.status_code == 200:\n",
        "\n",
        "            dataset_soup = BeautifulSoup(dataset_response.text, \"html.parser\")\n",
        "\n",
        "            # Look for GeoJSON labeled data-format\n",
        "            geojson_links = dataset_soup.find_all(\"a\", {\"data-format\": \"geojson\"})\n",
        "\n",
        "            if geojson_links:\n",
        "                for geojson_link_element in geojson_links:\n",
        "                    geojson_url = geojson_link_element[\"href\"]\n",
        "                    print(f\"GeoJSON API Link: {geojson_url}\")\n",
        "\n",
        "                    # Download the GeoJSON file to temp path\n",
        "                    geojson_response = requests.get(geojson_url)\n",
        "                    if geojson_response.status_code == 200:\n",
        "                        # Temporary Path for Testing Purposes\n",
        "                        local_geojson_path = f\"{title}.geojson\"\n",
        "\n",
        "                        # Save the GeoJSON content to the temp path\n",
        "                        with open(local_geojson_path, \"wb\") as geojson_file:\n",
        "                            geojson_file.write(geojson_response.content)\n",
        "\n",
        "                        print(f\"GeoJSON file saved as: {local_geojson_path}\")\n",
        "                    else:\n",
        "                        print(\"Error downloading GeoJSON file.\")\n",
        "            else:\n",
        "                print(\"No GeoJSON format available for this dataset.\")\n",
        "\n",
        "            print(\"-\" * 50)  # Separator between datasets\n",
        "        else:\n",
        "            print(f\"Error retrieving dataset details: {dataset_response.status_code}\")\n",
        "else:\n",
        "    print(f\"Error: {response.status_code}\")"
      ]
    }
  ]
}