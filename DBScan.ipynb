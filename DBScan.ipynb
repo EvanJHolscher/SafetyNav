{
  "nbformat": 4,
  "nbformat_minor": 0,
  "metadata": {
    "colab": {
      "provenance": []
    },
    "kernelspec": {
      "name": "python3",
      "display_name": "Python 3"
    },
    "language_info": {
      "name": "python"
    }
  },
  "cells": [
    {
      "cell_type": "markdown",
      "source": [
        "Density-Based Spatial Clustering"
      ],
      "metadata": {
        "id": "97MnYTkn0x3b"
      }
    },
    {
      "cell_type": "code",
      "execution_count": null,
      "metadata": {
        "id": "kjvocmlW0iiD"
      },
      "outputs": [],
      "source": [
        "import geopandas as gpd\n",
        "from sklearn.cluster import DBSCAN\n",
        "\n",
        "# Load GeoJSON dataset\n",
        "gdf = gpd.read_file('/content/LACrime-2020.geojson')\n",
        "\n",
        "# Extract latitude and longitude coordinates\n",
        "X = gdf[['lat', 'lon', 'vict_sex', 'vict_age']].values"
      ]
    },
    {
      "cell_type": "code",
      "source": [
        "from sklearn.preprocessing import LabelEncoder\n",
        "import pandas as pd\n",
        "\n",
        "# Encode categorical variables\n",
        "label_encoder = LabelEncoder()\n",
        "gdf['victim_sex_encoded'] = label_encoder.fit_transform(gdf['vict_sex'])\n",
        "\n",
        "# Select relevant features\n",
        "X = gdf[['lat', 'lon', 'victim_sex_encoded', 'vict_age']].values\n",
        "\n",
        "# Create and fit DBSCAN\n",
        "dbscan = DBSCAN(eps=0.1, min_samples=5, metric='euclidean').fit(X)\n",
        "\n",
        "# Get cluster labels\n",
        "cluster_labels = dbscan.labels_"
      ],
      "metadata": {
        "id": "OMZu1bX_ZwKs"
      },
      "execution_count": null,
      "outputs": []
    },
    {
      "cell_type": "code",
      "source": [
        "from sklearn.metrics import silhouette_score\n",
        "\n",
        "silhouette_avg = silhouette_score(X, cluster_labels)\n",
        "print(f\"Silhouette Score: {silhouette_avg}\")"
      ],
      "metadata": {
        "colab": {
          "base_uri": "https://localhost:8080/"
        },
        "id": "7ZN35VeVakpq",
        "outputId": "891b186e-fdc5-462f-bb9c-0f6e309daaa3"
      },
      "execution_count": null,
      "outputs": [
        {
          "output_type": "stream",
          "name": "stdout",
          "text": [
            "Silhouette Score: 0.4757197063540378\n"
          ]
        }
      ]
    },
    {
      "cell_type": "code",
      "source": [
        "import json\n",
        "# Load GeoJSON dataset\n",
        "gdf = gpd.read_file('/content/LACrime-2020.geojson')\n",
        "gdf['cluster_label'] = cluster_labels\n",
        "\n",
        "# Save the GeoDataFrame with cluster labels to a GeoJSON file\n",
        "gdf.to_file(\"clustered_data.geojson\", driver='GeoJSON')\n",
        "\n"
      ],
      "metadata": {
        "id": "G7-p-6jYbCel"
      },
      "execution_count": null,
      "outputs": []
    }
  ]
}